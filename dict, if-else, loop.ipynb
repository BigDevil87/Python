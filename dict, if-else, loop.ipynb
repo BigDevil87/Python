{
 "cells": [
  {
   "cell_type": "code",
   "execution_count": 1,
   "id": "fc06c4be-765c-416a-b09c-ad1bc1c9f4c9",
   "metadata": {},
   "outputs": [],
   "source": [
    "d = {}"
   ]
  },
  {
   "cell_type": "code",
   "execution_count": 2,
   "id": "e1309906-6295-4fbd-afed-ddef42f01fa9",
   "metadata": {},
   "outputs": [
    {
     "data": {
      "text/plain": [
       "{}"
      ]
     },
     "execution_count": 2,
     "metadata": {},
     "output_type": "execute_result"
    }
   ],
   "source": [
    "d"
   ]
  },
  {
   "cell_type": "code",
   "execution_count": 3,
   "id": "17586297-65fc-4211-a156-44528b5897b0",
   "metadata": {},
   "outputs": [
    {
     "data": {
      "text/plain": [
       "dict"
      ]
     },
     "execution_count": 3,
     "metadata": {},
     "output_type": "execute_result"
    }
   ],
   "source": [
    "type(d)"
   ]
  },
  {
   "cell_type": "code",
   "execution_count": 4,
   "id": "5f30935d-8d1e-4446-abe3-6c0a95eade3e",
   "metadata": {},
   "outputs": [],
   "source": [
    "d1 = {'key' : \"rahul\" }"
   ]
  },
  {
   "cell_type": "code",
   "execution_count": 5,
   "id": "c144d27b-4943-4300-8c56-3c9518391f01",
   "metadata": {},
   "outputs": [
    {
     "data": {
      "text/plain": [
       "{'key': 'rahul'}"
      ]
     },
     "execution_count": 5,
     "metadata": {},
     "output_type": "execute_result"
    }
   ],
   "source": [
    "d1"
   ]
  },
  {
   "cell_type": "code",
   "execution_count": 6,
   "id": "e4290756-5070-4876-9838-26c76e389cd9",
   "metadata": {},
   "outputs": [
    {
     "data": {
      "text/plain": [
       "dict"
      ]
     },
     "execution_count": 6,
     "metadata": {},
     "output_type": "execute_result"
    }
   ],
   "source": [
    "type(d1)"
   ]
  },
  {
   "cell_type": "code",
   "execution_count": 7,
   "id": "d23a18e7-d91e-4dfc-a74c-df6a09c8c452",
   "metadata": {},
   "outputs": [],
   "source": [
    "d2 = {'name' : \"devil\" , \" email\" : \"devil@gmail.com\", \"number\" : 1234567890} "
   ]
  },
  {
   "cell_type": "code",
   "execution_count": 8,
   "id": "dbcb160d-7934-4761-9875-34b845252400",
   "metadata": {},
   "outputs": [
    {
     "data": {
      "text/plain": [
       "{'name': 'devil', ' email': 'devil@gmail.com', 'number': 1234567890}"
      ]
     },
     "execution_count": 8,
     "metadata": {},
     "output_type": "execute_result"
    }
   ],
   "source": [
    "d2"
   ]
  },
  {
   "cell_type": "code",
   "execution_count": 12,
   "id": "f93cedcc-ebb0-45e8-860f-f90904531b6a",
   "metadata": {},
   "outputs": [],
   "source": [
    "d3 = {234 : \"dev\" , '@wer' : \"kumar\", True : 242345} "
   ]
  },
  {
   "cell_type": "code",
   "execution_count": 13,
   "id": "0d1006b8-f2f3-4a17-9ae5-f62ea3c61812",
   "metadata": {},
   "outputs": [
    {
     "data": {
      "text/plain": [
       "{234: 'dev', '@wer': 'kumar', True: 242345}"
      ]
     },
     "execution_count": 13,
     "metadata": {},
     "output_type": "execute_result"
    }
   ],
   "source": [
    "d3"
   ]
  },
  {
   "cell_type": "code",
   "execution_count": 15,
   "id": "717d455f-187b-4f67-9698-16562bf3692f",
   "metadata": {},
   "outputs": [
    {
     "data": {
      "text/plain": [
       "'dev'"
      ]
     },
     "execution_count": 15,
     "metadata": {},
     "output_type": "execute_result"
    }
   ],
   "source": [
    " d3[234]"
   ]
  },
  {
   "cell_type": "code",
   "execution_count": 16,
   "id": "7e1cb199-6705-423c-b26f-05d1f16e5122",
   "metadata": {},
   "outputs": [
    {
     "data": {
      "text/plain": [
       "242345"
      ]
     },
     "execution_count": 16,
     "metadata": {},
     "output_type": "execute_result"
    }
   ],
   "source": [
    "d3[True]"
   ]
  },
  {
   "cell_type": "code",
   "execution_count": 17,
   "id": "31678470-15f8-4974-b82e-f5f712350bc9",
   "metadata": {},
   "outputs": [
    {
     "data": {
      "text/plain": [
       "242345"
      ]
     },
     "execution_count": 17,
     "metadata": {},
     "output_type": "execute_result"
    }
   ],
   "source": [
    "d3[1]"
   ]
  },
  {
   "cell_type": "code",
   "execution_count": 18,
   "id": "469c8711-a4d3-4df9-857f-2dcfa8e2097a",
   "metadata": {},
   "outputs": [
    {
     "ename": "KeyError",
     "evalue": "0",
     "output_type": "error",
     "traceback": [
      "\u001b[0;31m---------------------------------------------------------------------------\u001b[0m",
      "\u001b[0;31mKeyError\u001b[0m                                  Traceback (most recent call last)",
      "Cell \u001b[0;32mIn[18], line 1\u001b[0m\n\u001b[0;32m----> 1\u001b[0m \u001b[43md3\u001b[49m\u001b[43m[\u001b[49m\u001b[38;5;241;43m0\u001b[39;49m\u001b[43m]\u001b[49m\n",
      "\u001b[0;31mKeyError\u001b[0m: 0"
     ]
    }
   ],
   "source": [
    "d3[0]"
   ]
  },
  {
   "cell_type": "code",
   "execution_count": 19,
   "id": "4516ee4e-1777-4709-a306-b56d19665efa",
   "metadata": {},
   "outputs": [
    {
     "ename": "KeyError",
     "evalue": "-1",
     "output_type": "error",
     "traceback": [
      "\u001b[0;31m---------------------------------------------------------------------------\u001b[0m",
      "\u001b[0;31mKeyError\u001b[0m                                  Traceback (most recent call last)",
      "Cell \u001b[0;32mIn[19], line 1\u001b[0m\n\u001b[0;32m----> 1\u001b[0m \u001b[43md3\u001b[49m\u001b[43m[\u001b[49m\u001b[38;5;241;43m-\u001b[39;49m\u001b[38;5;241;43m1\u001b[39;49m\u001b[43m]\u001b[49m\n",
      "\u001b[0;31mKeyError\u001b[0m: -1"
     ]
    }
   ],
   "source": [
    "d3[-1]"
   ]
  },
  {
   "cell_type": "code",
   "execution_count": 20,
   "id": "433fb414-ec8a-4590-b527-94155232e158",
   "metadata": {},
   "outputs": [],
   "source": [
    "d4 = {'name' : \"rahul\" , 'mail_id' :\"devil.com\", \"name\" : \"devil\"}"
   ]
  },
  {
   "cell_type": "code",
   "execution_count": 21,
   "id": "ca2ca525-6987-4100-9c16-19db8447434e",
   "metadata": {},
   "outputs": [
    {
     "data": {
      "text/plain": [
       "'devil'"
      ]
     },
     "execution_count": 21,
     "metadata": {},
     "output_type": "execute_result"
    }
   ],
   "source": [
    "d4['name']"
   ]
  },
  {
   "cell_type": "code",
   "execution_count": 25,
   "id": "373ca8de-9574-45e0-9156-766bab6f5752",
   "metadata": {},
   "outputs": [],
   "source": [
    "d5 = {\"company\" : \"pwskills\", \"course\": [\"web dev\", \"data science\", \"java\"]}"
   ]
  },
  {
   "cell_type": "code",
   "execution_count": 23,
   "id": "34338404-0d2a-491d-8a48-b30df4d7ccba",
   "metadata": {},
   "outputs": [
    {
     "data": {
      "text/plain": [
       "{'company': 'pwskills', 'course': ['web dev', 'data science', 'ljava']}"
      ]
     },
     "execution_count": 23,
     "metadata": {},
     "output_type": "execute_result"
    }
   ],
   "source": [
    "d5"
   ]
  },
  {
   "cell_type": "code",
   "execution_count": 27,
   "id": "eca87979-43c4-4aad-a649-730347556337",
   "metadata": {},
   "outputs": [
    {
     "data": {
      "text/plain": [
       "'java'"
      ]
     },
     "execution_count": 27,
     "metadata": {},
     "output_type": "execute_result"
    }
   ],
   "source": [
    "d5[\"course\"][2]"
   ]
  },
  {
   "cell_type": "code",
   "execution_count": 36,
   "id": "ce34d75b-10de-421d-b0cf-54788c488686",
   "metadata": {},
   "outputs": [],
   "source": [
    "d6 = { \"number\" : [2,34,3,34,54], \"assignment\": (1,2,3,4,5,6), \"launch-date\": {28,12,14} ,\"class_time\": {\"web_dev\" : 8 , \"data science\" : 8 , \"java\" : 7} }"
   ]
  },
  {
   "cell_type": "code",
   "execution_count": 37,
   "id": "73b7fb0b-c24d-456a-95c7-7e30215a3d65",
   "metadata": {},
   "outputs": [
    {
     "data": {
      "text/plain": [
       "{'number': [2, 34, 3, 34, 54],\n",
       " 'assignment': (1, 2, 3, 4, 5, 6),\n",
       " 'launch-date': {12, 14, 28},\n",
       " 'class_time': {'web_dev': 8, 'data science': 8, 'java': 7}}"
      ]
     },
     "execution_count": 37,
     "metadata": {},
     "output_type": "execute_result"
    }
   ],
   "source": [
    "d6"
   ]
  },
  {
   "cell_type": "code",
   "execution_count": 38,
   "id": "1cb149b8-f484-4745-9b20-68d255924c6d",
   "metadata": {},
   "outputs": [
    {
     "data": {
      "text/plain": [
       "7"
      ]
     },
     "execution_count": 38,
     "metadata": {},
     "output_type": "execute_result"
    }
   ],
   "source": [
    "d6[\"class_time\"][\"java\"]"
   ]
  },
  {
   "cell_type": "code",
   "execution_count": 39,
   "id": "2eeb126c-491e-474f-b68a-a9827163de9f",
   "metadata": {},
   "outputs": [
    {
     "data": {
      "text/plain": [
       "{'number': [2, 34, 3, 34, 54],\n",
       " 'assignment': (1, 2, 3, 4, 5, 6),\n",
       " 'launch-date': {12, 14, 28},\n",
       " 'class_time': {'web_dev': 8, 'data science': 8, 'java': 7}}"
      ]
     },
     "execution_count": 39,
     "metadata": {},
     "output_type": "execute_result"
    }
   ],
   "source": [
    "d6"
   ]
  },
  {
   "cell_type": "code",
   "execution_count": 45,
   "id": "19815623-314e-4a0e-aa05-5ebcb837ab8c",
   "metadata": {},
   "outputs": [],
   "source": [
    "d6[\"mentor\"] = [\"rahul\", \"krish\", \"anurag\", \"haider\"]"
   ]
  },
  {
   "cell_type": "code",
   "execution_count": 46,
   "id": "804a8762-3d0c-4ea3-b14c-7723e2750640",
   "metadata": {},
   "outputs": [
    {
     "data": {
      "text/plain": [
       "{'number': ['rahul', 'krish', 'anurag', 'haider'],\n",
       " 'assignment': (1, 2, 3, 4, 5, 6),\n",
       " 'launch-date': {12, 14, 28},\n",
       " 'class_time': {'web_dev': 8, 'data science': 8, 'java': 7},\n",
       " 'mentor': ['rahul', 'krish', 'anurag', 'haider']}"
      ]
     },
     "execution_count": 46,
     "metadata": {},
     "output_type": "execute_result"
    }
   ],
   "source": [
    "d6"
   ]
  },
  {
   "cell_type": "code",
   "execution_count": 47,
   "id": "5510f4ed-e2da-4a5b-b7df-908e1a499baf",
   "metadata": {},
   "outputs": [],
   "source": [
    "del d6[\"number\"]"
   ]
  },
  {
   "cell_type": "code",
   "execution_count": 48,
   "id": "04de935e-74b2-4c3d-bc16-ec11da6ff538",
   "metadata": {},
   "outputs": [
    {
     "data": {
      "text/plain": [
       "{'assignment': (1, 2, 3, 4, 5, 6),\n",
       " 'launch-date': {12, 14, 28},\n",
       " 'class_time': {'web_dev': 8, 'data science': 8, 'java': 7},\n",
       " 'mentor': ['rahul', 'krish', 'anurag', 'haider']}"
      ]
     },
     "execution_count": 48,
     "metadata": {},
     "output_type": "execute_result"
    }
   ],
   "source": [
    "d6"
   ]
  },
  {
   "cell_type": "code",
   "execution_count": 49,
   "id": "aac2a7f7-7e31-4573-b8f3-b3feb214f79b",
   "metadata": {},
   "outputs": [
    {
     "data": {
      "text/plain": [
       "dict_keys(['assignment', 'launch-date', 'class_time', 'mentor'])"
      ]
     },
     "execution_count": 49,
     "metadata": {},
     "output_type": "execute_result"
    }
   ],
   "source": [
    "d6.keys()"
   ]
  },
  {
   "cell_type": "code",
   "execution_count": 50,
   "id": "7eff94ee-209c-4026-b9e2-48534ce9bbb1",
   "metadata": {},
   "outputs": [
    {
     "data": {
      "text/plain": [
       "dict_values([(1, 2, 3, 4, 5, 6), {28, 12, 14}, {'web_dev': 8, 'data science': 8, 'java': 7}, ['rahul', 'krish', 'anurag', 'haider']])"
      ]
     },
     "execution_count": 50,
     "metadata": {},
     "output_type": "execute_result"
    }
   ],
   "source": [
    "d6.values()"
   ]
  },
  {
   "cell_type": "code",
   "execution_count": 51,
   "id": "7ac55daf-ae25-4ffc-808e-abe1edf96965",
   "metadata": {},
   "outputs": [
    {
     "data": {
      "text/plain": [
       "dict_items([('assignment', (1, 2, 3, 4, 5, 6)), ('launch-date', {28, 12, 14}), ('class_time', {'web_dev': 8, 'data science': 8, 'java': 7}), ('mentor', ['rahul', 'krish', 'anurag', 'haider'])])"
      ]
     },
     "execution_count": 51,
     "metadata": {},
     "output_type": "execute_result"
    }
   ],
   "source": [
    "d6.items()"
   ]
  },
  {
   "cell_type": "code",
   "execution_count": 52,
   "id": "ff9406ca-eada-46de-8e1c-2e6500c3f741",
   "metadata": {},
   "outputs": [
    {
     "data": {
      "text/plain": [
       "[('assignment', (1, 2, 3, 4, 5, 6)),\n",
       " ('launch-date', {12, 14, 28}),\n",
       " ('class_time', {'web_dev': 8, 'data science': 8, 'java': 7}),\n",
       " ('mentor', ['rahul', 'krish', 'anurag', 'haider'])]"
      ]
     },
     "execution_count": 52,
     "metadata": {},
     "output_type": "execute_result"
    }
   ],
   "source": [
    "list(d6.items())"
   ]
  },
  {
   "cell_type": "code",
   "execution_count": 54,
   "id": "552080f0-c469-41c0-b857-683cde98c1bd",
   "metadata": {},
   "outputs": [
    {
     "data": {
      "text/plain": [
       "[(1, 2, 3, 4, 5, 6),\n",
       " {12, 14, 28},\n",
       " {'web_dev': 8, 'data science': 8, 'java': 7},\n",
       " ['rahul', 'krish', 'anurag', 'haider']]"
      ]
     },
     "execution_count": 54,
     "metadata": {},
     "output_type": "execute_result"
    }
   ],
   "source": [
    "list(d6.values())"
   ]
  },
  {
   "cell_type": "code",
   "execution_count": 55,
   "id": "a3b983de-3278-4a5c-972e-19e074190c21",
   "metadata": {},
   "outputs": [
    {
     "data": {
      "text/plain": [
       "{12, 14, 28}"
      ]
     },
     "execution_count": 55,
     "metadata": {},
     "output_type": "execute_result"
    }
   ],
   "source": [
    "d6.pop(\"launch-date\")"
   ]
  },
  {
   "cell_type": "code",
   "execution_count": 3,
   "id": "c0388a25-cab9-4eb9-b530-0c05a1981a61",
   "metadata": {},
   "outputs": [
    {
     "name": "stdin",
     "output_type": "stream",
     "text": [
      "enter your marks 320\n"
     ]
    },
    {
     "name": "stdout",
     "output_type": "stream",
     "text": [
      "you will be a part of A0 batch\n"
     ]
    }
   ],
   "source": [
    "marks = int(input(\"enter your marks\"))\n",
    "if marks >= 80 :\n",
    "    print(\"you will be a part of A0 batch\")\n",
    "elif marks >= 60 and marks< 80:\n",
    "    print(\"you will be a part of A1 batch\")\n",
    "elif marks >= 40 and marks< 60:\n",
    "    print(\"you will be a part of A2 batch\")\n",
    "else :\n",
    "    print(\"you will be a part of A3 batch\")"
   ]
  },
  {
   "cell_type": "code",
   "execution_count": 5,
   "id": "8f308d18-daf4-4656-8442-5805277843ba",
   "metadata": {},
   "outputs": [
    {
     "name": "stdin",
     "output_type": "stream",
     "text": [
      "enter price 1230\n"
     ]
    },
    {
     "name": "stdout",
     "output_type": "stream",
     "text": [
      "i will not purchase\n"
     ]
    }
   ],
   "source": [
    "price =int(input (\"enter price\"))\n",
    "if price > 1000:\n",
    "    print(\"i will not purchase\")\n",
    "else :\n",
    "    print(\"i will purchase\")"
   ]
  },
  {
   "cell_type": "code",
   "execution_count": 6,
   "id": "33e7a452-5a8d-41ba-89f3-628c812a4b3c",
   "metadata": {},
   "outputs": [],
   "source": [
    "l = [1,2,3,4,5,6,7,8]"
   ]
  },
  {
   "cell_type": "code",
   "execution_count": 13,
   "id": "6cf4276b-64e9-4758-803a-3b6b8e090077",
   "metadata": {},
   "outputs": [
    {
     "name": "stdout",
     "output_type": "stream",
     "text": [
      "2\n",
      "3\n",
      "4\n",
      "5\n",
      "6\n",
      "7\n",
      "8\n",
      "9\n"
     ]
    },
    {
     "data": {
      "text/plain": [
       "[2, 3, 4, 5, 6, 7, 8, 9]"
      ]
     },
     "execution_count": 13,
     "metadata": {},
     "output_type": "execute_result"
    }
   ],
   "source": [
    "l1 = []\n",
    "for i in l :\n",
    "    print(i+1)\n",
    "    l1.append(i + 1)\n",
    "l1"
   ]
  },
  {
   "cell_type": "code",
   "execution_count": 14,
   "id": "2cb52c2e-ceb5-490c-9be8-aa3124b5f5d0",
   "metadata": {},
   "outputs": [
    {
     "data": {
      "text/plain": [
       "[2, 3, 4, 5, 6, 7, 8, 9]"
      ]
     },
     "execution_count": 14,
     "metadata": {},
     "output_type": "execute_result"
    }
   ],
   "source": [
    "l1"
   ]
  },
  {
   "cell_type": "code",
   "execution_count": 15,
   "id": "e0980e45-b70e-4700-a330-3e5e85030ca6",
   "metadata": {},
   "outputs": [],
   "source": [
    "l = [\"rahul\", \"kumar\" , \"pwskills\", \"course\"]"
   ]
  },
  {
   "cell_type": "code",
   "execution_count": 17,
   "id": "befb8606-84e4-42b4-9ec1-cdefbb68b979",
   "metadata": {},
   "outputs": [
    {
     "name": "stdout",
     "output_type": "stream",
     "text": [
      "rahul\n",
      "kumar\n",
      "pwskills\n",
      "course\n"
     ]
    }
   ],
   "source": [
    "l1 = []\n",
    "for i in l :\n",
    "    print(i)\n",
    "    l1.append(i.upper())"
   ]
  },
  {
   "cell_type": "code",
   "execution_count": 18,
   "id": "b0e31a07-721d-4ad1-8a6f-f122f1d578c5",
   "metadata": {},
   "outputs": [
    {
     "data": {
      "text/plain": [
       "['RAHUL', 'KUMAR', 'PWSKILLS', 'COURSE']"
      ]
     },
     "execution_count": 18,
     "metadata": {},
     "output_type": "execute_result"
    }
   ],
   "source": [
    "l1"
   ]
  },
  {
   "cell_type": "code",
   "execution_count": 19,
   "id": "8ea87a70-1b34-4623-8d43-9695b9a785c4",
   "metadata": {},
   "outputs": [],
   "source": [
    "l = [ 1,2,3,4,5,\"rahul\", \"kumar\", 324,34.456,\"abc\"]"
   ]
  },
  {
   "cell_type": "code",
   "execution_count": 21,
   "id": "f1358ab4-80c0-432c-97b6-90958dd4893f",
   "metadata": {},
   "outputs": [],
   "source": [
    "l1_num = []\n",
    "l2_str = []\n",
    "for i in l :\n",
    "    if type(i) == int or type(i) == float :\n",
    "        l1_num.append(i)\n",
    "    else : \n",
    "        l2_str.append(i)"
   ]
  },
  {
   "cell_type": "code",
   "execution_count": 22,
   "id": "90fe9531-a71a-4e70-b2b0-131d923fbbbc",
   "metadata": {},
   "outputs": [
    {
     "data": {
      "text/plain": [
       "[1, 2, 3, 4, 5, 324, 34.456]"
      ]
     },
     "execution_count": 22,
     "metadata": {},
     "output_type": "execute_result"
    }
   ],
   "source": [
    "l1_num"
   ]
  },
  {
   "cell_type": "code",
   "execution_count": 23,
   "id": "f6c55cec-effd-43dc-948b-54bed976a38d",
   "metadata": {},
   "outputs": [
    {
     "data": {
      "text/plain": [
       "['rahul', 'kumar', 'abc']"
      ]
     },
     "execution_count": 23,
     "metadata": {},
     "output_type": "execute_result"
    }
   ],
   "source": [
    "l2_str"
   ]
  },
  {
   "cell_type": "code",
   "execution_count": null,
   "id": "b78f4a9b-dc33-4afa-b316-f4921a2028a2",
   "metadata": {},
   "outputs": [],
   "source": []
  }
 ],
 "metadata": {
  "kernelspec": {
   "display_name": "Python 3 (ipykernel)",
   "language": "python",
   "name": "python3"
  },
  "language_info": {
   "codemirror_mode": {
    "name": "ipython",
    "version": 3
   },
   "file_extension": ".py",
   "mimetype": "text/x-python",
   "name": "python",
   "nbconvert_exporter": "python",
   "pygments_lexer": "ipython3",
   "version": "3.10.8"
  }
 },
 "nbformat": 4,
 "nbformat_minor": 5
}
